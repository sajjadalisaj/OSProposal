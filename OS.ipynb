{
 "cells": [
  {
   "cell_type": "code",
   "execution_count": 2,
   "id": "1699af66",
   "metadata": {},
   "outputs": [],
   "source": [
    "import matplotlib.pyplot as plt\n",
    "import numpy as np"
   ]
  },
  {
   "cell_type": "markdown",
   "id": "2fb98b15",
   "metadata": {},
   "source": [
    "### Waiting Time"
   ]
  },
  {
   "cell_type": "code",
   "execution_count": 4,
   "id": "cabbc7b0",
   "metadata": {},
   "outputs": [],
   "source": [
    "def findWaitingTime(processes, n, wt):\n",
    "    rt = [0] * n\n",
    "\n",
    "    # Copy the burst time into rt[]\n",
    "    for i in range(n):\n",
    "        rt[i] = processes[i][1]\n",
    "    complete = 0\n",
    "    t = 0\n",
    "    minm = 999999999\n",
    "    short = 0\n",
    "    check = False\n",
    "\n",
    "    # Process until all processes gets\n",
    "    # completed\n",
    "    while (complete != n):\n",
    "\n",
    "        # Find process with minimum remaining\n",
    "        # time among the processes that\n",
    "        # arrives till the current time`\n",
    "        for j in range(n):\n",
    "            if ((processes[j][2] <= t) and\n",
    "                    (rt[j] < minm) and rt[j] > 0):\n",
    "                minm = rt[j]\n",
    "                short = j\n",
    "                check = True\n",
    "        if (check == False):\n",
    "            t += 1\n",
    "            continue\n",
    "\n",
    "        # Reduce remaining time by one\n",
    "        rt[short] -= 1\n",
    "\n",
    "        # Update minimum\n",
    "        minm = rt[short]\n",
    "        if (minm == 0):\n",
    "            minm = 999999999\n",
    "\n",
    "        # If a process gets completely\n",
    "        # executed\n",
    "        if (rt[short] == 0):\n",
    "\n",
    "            # Increment complete\n",
    "            complete += 1\n",
    "            check = False\n",
    "\n",
    "            # Find finish time of current\n",
    "            # process\n",
    "            fint = t + 1\n",
    "\n",
    "            # Calculate waiting time\n",
    "            wt[short] = (fint - proc[short][1] -\n",
    "                         proc[short][2])\n",
    "\n",
    "            if (wt[short] < 0):\n",
    "                wt[short] = 0\n",
    "\n",
    "        # Increment time\n",
    "        t += 1"
   ]
  },
  {
   "cell_type": "markdown",
   "id": "73da11c1",
   "metadata": {},
   "source": [
    "### Turn Around Time"
   ]
  },
  {
   "cell_type": "code",
   "execution_count": 5,
   "id": "4c9c3c44",
   "metadata": {},
   "outputs": [],
   "source": [
    "def findTurnAroundTime(processes, n, wt, tat):\n",
    "    # Calculating turnaround time\n",
    "    for i in range(n):\n",
    "        tat[i] = processes[i][1] + wt[i]"
   ]
  },
  {
   "cell_type": "markdown",
   "id": "9612736e",
   "metadata": {},
   "source": [
    "### Average Time"
   ]
  },
  {
   "cell_type": "code",
   "execution_count": 75,
   "id": "7b2ff8fc",
   "metadata": {},
   "outputs": [],
   "source": [
    "def findavgTime(processes, n):\n",
    "    wt = [0] * n\n",
    "    tat = [0] * n\n",
    "\n",
    "    # Function to find waiting time\n",
    "    # of all processes\n",
    "    findWaitingTime(processes, n, wt)\n",
    "\n",
    "    # Function to find turn around time\n",
    "    # for all processes\n",
    "    findTurnAroundTime(processes, n, wt, tat)\n",
    "\n",
    "    # Display processes along with all details\n",
    "    print(\"{0} {1} {2} {3}\".format(\"Processes ID | \", \"Brust Time | \", \"Waiting Time | \", \"Turn Around Time\"))\n",
    "    total_wt = 0\n",
    "    total_tat = 0\n",
    "    \n",
    "    pro_ids = []\n",
    "    brust_time = []\n",
    "    waiting_time = []\n",
    "    turn_at = []\n",
    "    for i in range(n):\n",
    "        \n",
    "        pro_ids.append(processes[i][0])\n",
    "        brust_time.append(processes[i][1])\n",
    "        waiting_time.append(wt[i])\n",
    "        turn_at.append(tat[i])\n",
    "        \n",
    "        total_wt += wt[i]\n",
    "        total_tat += tat[i]\n",
    "        processId = \"P\"+str(processes[i][0])\n",
    "        brustTime = processes[i][1]\n",
    "\n",
    "        print(\"{:>6} {:>14} {:>15} {:>16}\".format(processId, brustTime, wt[i], tat[i]))\n",
    "\n",
    "    print(\"\\nAverage waiting time = %.5f \" % (total_wt / n))\n",
    "    print(\"Average turn around time = \", total_tat / n)\n",
    "    \n",
    "    data = [[brust_time[0], brust_time[1], brust_time[2], brust_time[3]],\n",
    "    [waiting_time[0], waiting_time[1], waiting_time[2], waiting_time[3]],\n",
    "    [turn_at[0], turn_at[1], turn_at[2], turn_at[3]]]\n",
    "    X = np.arange(4)\n",
    "    fig = plt.figure()\n",
    "    ax = fig.add_axes([0,0,1,1])\n",
    "    barWidth = 0.25\n",
    "    ax.bar(X + 0.00, data[0], color = 'b', width = 0.25)\n",
    "    ax.bar(X + 0.25, data[1], color = 'g', width = 0.25)\n",
    "    ax.bar(X + 0.50, data[2], color = 'r', width = 0.25)\n",
    "    ax.set_ylabel('Time', fontweight ='bold', fontsize = 15)\n",
    "    plt.xlabel('Process IDs', fontweight ='bold', fontsize = 15)\n",
    "    ax.legend(labels=['BT', 'WT', 'TAT'])\n",
    "    plt.xticks([r + barWidth for r in range(len(brust_time))],\n",
    "        ['P1', 'P2', 'P3', 'P4'])"
   ]
  },
  {
   "cell_type": "markdown",
   "id": "748afc63",
   "metadata": {},
   "source": [
    "### Driver Code"
   ]
  },
  {
   "cell_type": "code",
   "execution_count": 76,
   "id": "c17f5bde",
   "metadata": {},
   "outputs": [
    {
     "name": "stdout",
     "output_type": "stream",
     "text": [
      "Processes ID |  Brust Time |  Waiting Time |  Turn Around Time\n",
      "    P1              6               9               15\n",
      "    P2              3               0                3\n",
      "    P3              6               6               12\n",
      "    P4              3               2                5\n",
      "\n",
      "Average waiting time = 4.25000 \n",
      "Average turn around time =  8.75\n"
     ]
    },
    {
     "data": {
      "image/png": "[encoded data removed]",
      "text/plain": [
       "<Figure size 432x288 with 1 Axes>"
      ]
     },
     "metadata": {
      "needs_background": "light"
     },
     "output_type": "display_data"
    }
   ],
   "source": [
    "if __name__ == \"__main__\":\n",
    "    # Process id's\n",
    "    proc = [[1, 6, 5], [2, 3, 3],\n",
    "           [3, 6, 2], [4, 3, 4]]\n",
    "    n = 4\n",
    "    findavgTime(proc, n)"
   ]
  },
  {
   "cell_type": "code",
   "execution_count": 30,
   "id": "84070702",
   "metadata": {},
   "outputs": [
    {
     "data": {
      "text/plain": [
       "<BarContainer object of 4 artists>"
      ]
     },
     "execution_count": 30,
     "metadata": {},
     "output_type": "execute_result"
    },
    {
     "data": {
      "image/png": "[encoded data removed]",
      "text/plain": [
       "<Figure size 432x288 with 1 Axes>"
      ]
     },
     "metadata": {
      "needs_background": "light"
     },
     "output_type": "display_data"
    }
   ],
   "source": [
    "data = [[6, 3, 6, 3],\n",
    "[1, 1, 1, 1],\n",
    "[1, 2, 1, 1]]\n",
    "X = np.arange(4)\n",
    "fig = plt.figure()\n",
    "ax = fig.add_axes([0,0,1,1])\n",
    "ax.bar(X + 0.00, data[0], color = 'b', width = 0.25)\n",
    "ax.bar(X + 0.25, data[1], color = 'g', width = 0.25)\n",
    "ax.bar(X + 0.50, data[2], color = 'r', width = 0.25)"
   ]
  }
 ],
 "metadata": {
  "kernelspec": {
   "display_name": "Python 3 (ipykernel)",
   "language": "python",
   "name": "python3"
  },
  "language_info": {
   "codemirror_mode": {
    "name": "ipython",
    "version": 3
   },
   "file_extension": ".py",
   "mimetype": "text/x-python",
   "name": "python",
   "nbconvert_exporter": "python",
   "pygments_lexer": "ipython3",
   "version": "3.9.12"
  }
 },
 "nbformat": 4,
 "nbformat_minor": 5
}
